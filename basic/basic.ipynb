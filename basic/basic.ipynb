{
 "cells": [
  {
   "cell_type": "markdown",
   "metadata": {},
   "source": [
    "# 基本課題"
   ]
  },
  {
   "cell_type": "markdown",
   "metadata": {},
   "source": [
    "#### 1. 任意の文字列 (xxx) を標準入力で受け取り，\"Hello, xxx!\" と出力せよ。"
   ]
  },
  {
   "cell_type": "code",
   "execution_count": 52,
   "metadata": {},
   "outputs": [
    {
     "name": "stdin",
     "output_type": "stream",
     "text": [
      "文字列は？ matsue\n"
     ]
    },
    {
     "name": "stdout",
     "output_type": "stream",
     "text": [
      "matsue\n"
     ]
    }
   ],
   "source": [
    "a = input('文字列は？')\n",
    "print(a)"
   ]
  },
  {
   "cell_type": "markdown",
   "metadata": {},
   "source": [
    "#### 2. 任意の整数を標準入力で受け取り，\"100\" との和差積商を出力せよ。"
   ]
  },
  {
   "cell_type": "code",
   "execution_count": 53,
   "metadata": {},
   "outputs": [
    {
     "name": "stdin",
     "output_type": "stream",
     "text": [
      " 3\n"
     ]
    },
    {
     "name": "stdout",
     "output_type": "stream",
     "text": [
      "103\n",
      "97\n",
      "300\n",
      "33.333333333333336\n"
     ]
    }
   ],
   "source": [
    "k = int(input())\n",
    "a = 100+k\n",
    "b = 100-k\n",
    "c = 100*k\n",
    "d = 100/k\n",
    "print(a) \n",
    "print(b)\n",
    "print(c)\n",
    "print(d)"
   ]
  },
  {
   "cell_type": "markdown",
   "metadata": {},
   "source": [
    "#### 3. 1から50のリストを作って，その最大値，最小値，合計値，平均値を出力せよ。"
   ]
  },
  {
   "cell_type": "code",
   "execution_count": 3,
   "metadata": {},
   "outputs": [
    {
     "name": "stdout",
     "output_type": "stream",
     "text": [
      "[1, 2, 3, 4, 5, 6, 7, 8, 9, 10, 11, 12, 13, 14, 15, 16, 17, 18, 19, 20, 21, 22, 23, 24, 25, 26, 27, 28, 29, 30, 31, 32, 33, 34, 35, 36, 37, 38, 39, 40, 41, 42, 43, 44, 45, 46, 47, 48, 49, 50]\n",
      "データの最大値は: 50\n",
      "データの最小値は: 1\n",
      "データの合計値は: 1275\n",
      "データの平均値は: 25.5\n"
     ]
    }
   ],
   "source": [
    "mylist = list(range(1,51,1))\n",
    "\n",
    "s = sum(mylist)\n",
    "n = len(mylist)\n",
    "a = s/n\n",
    "\n",
    "print (mylist)\n",
    "print ('データの最大値は:',(max(mylist)))\n",
    "print ('データの最小値は:',(min(mylist)))\n",
    "print ('データの合計値は:',s)\n",
    "print ('データの平均値は:',a)"
   ]
  },
  {
   "cell_type": "markdown",
   "metadata": {},
   "source": [
    "#### 4. 3. で作ったリストに 51から100のリストを追加せよ。また，そのリストから30から70までの偶数要素のみを出力せよ。"
   ]
  },
  {
   "cell_type": "code",
   "execution_count": 30,
   "metadata": {},
   "outputs": [
    {
     "name": "stdout",
     "output_type": "stream",
     "text": [
      "[30, 32, 34, 36, 38, 40, 42, 44, 46, 48, 50, 52, 54, 56, 58, 60, 62, 64, 66, 68, 70]\n"
     ]
    }
   ],
   "source": [
    "listb = list(range(51,101,1))\n",
    "\n",
    "listc = mylist + listb\n",
    "l_ans = [i for i in listc if 29<i<71 and i % 2 ==0]\n",
    "print(l_ans)"
   ]
  },
  {
   "cell_type": "markdown",
   "metadata": {},
   "source": [
    "#### 5. 講習参加者の姓を key, 学年を value とする辞書を作り，全要素を for 文を用いて出力せよ。"
   ]
  },
  {
   "cell_type": "code",
   "execution_count": 101,
   "metadata": {},
   "outputs": [
    {
     "name": "stdout",
     "output_type": "stream",
     "text": [
      "matsue\n",
      "B4\n",
      "yamada\n",
      "B4\n",
      "matsuda\n",
      "B4\n",
      "hagimoto\n",
      "B4\n",
      "seki\n",
      "B4\n"
     ]
    }
   ],
   "source": [
    "d = {'matsue': 'B4', 'yamada': 'B4', 'matsuda': 'B4', 'hagimoto': 'B4', 'seki': 'B4'}\n",
    "for key in d:\n",
    "    print(key)\n",
    "    print(d[key])"
   ]
  },
  {
   "cell_type": "markdown",
   "metadata": {},
   "source": [
    "#### 6. 1から100の範囲で，3で割り切れる場合は\"Fizz\"，5で割り切れる場合は\"Buzz\"，そのどちらでも割り切れる場合は\"FizzBuzz\"，いずれでもない場合はそのまま数字を出力せよ。\n",
    "##### 出力例\n",
    "```bash\n",
    "1, 2, \"Fizz\", 4, \"Buzz\", \"Fizz\", ..., 14, \"FizzBuzz\", 16, ...\n",
    "```"
   ]
  },
  {
   "cell_type": "code",
   "execution_count": 100,
   "metadata": {},
   "outputs": [
    {
     "name": "stdout",
     "output_type": "stream",
     "text": [
      "1\n",
      "2\n",
      "Fizz\n",
      "4\n",
      "Buzz\n",
      "Fizz\n",
      "7\n",
      "8\n",
      "Fizz\n",
      "Buzz\n",
      "11\n",
      "Fizz\n",
      "13\n",
      "14\n",
      "FizzBuzz\n",
      "16\n",
      "17\n",
      "Fizz\n",
      "19\n",
      "Buzz\n",
      "Fizz\n",
      "22\n",
      "23\n",
      "Fizz\n",
      "Buzz\n",
      "26\n",
      "Fizz\n",
      "28\n",
      "29\n",
      "FizzBuzz\n",
      "31\n",
      "32\n",
      "Fizz\n",
      "34\n",
      "Buzz\n",
      "Fizz\n",
      "37\n",
      "38\n",
      "Fizz\n",
      "Buzz\n",
      "41\n",
      "Fizz\n",
      "43\n",
      "44\n",
      "FizzBuzz\n",
      "46\n",
      "47\n",
      "Fizz\n",
      "49\n",
      "Buzz\n",
      "Fizz\n",
      "52\n",
      "53\n",
      "Fizz\n",
      "Buzz\n",
      "56\n",
      "Fizz\n",
      "58\n",
      "59\n",
      "FizzBuzz\n",
      "61\n",
      "62\n",
      "Fizz\n",
      "64\n",
      "Buzz\n",
      "Fizz\n",
      "67\n",
      "68\n",
      "Fizz\n",
      "Buzz\n",
      "71\n",
      "Fizz\n",
      "73\n",
      "74\n",
      "FizzBuzz\n",
      "76\n",
      "77\n",
      "Fizz\n",
      "79\n",
      "Buzz\n",
      "Fizz\n",
      "82\n",
      "83\n",
      "Fizz\n",
      "Buzz\n",
      "86\n",
      "Fizz\n",
      "88\n",
      "89\n",
      "FizzBuzz\n",
      "91\n",
      "92\n",
      "Fizz\n",
      "94\n",
      "Buzz\n",
      "Fizz\n",
      "97\n",
      "98\n",
      "Fizz\n",
      "Buzz\n"
     ]
    }
   ],
   "source": [
    "l = list(range(1,101))\n",
    "l_3 = [i for i in l if i%3 ==0]\n",
    "l_5 = [i for i in l if i%5 ==0]\n",
    "l_15 = [i for i in l if i%15 ==0]\n",
    "\n",
    "for i in l:\n",
    "    if i in l_15:\n",
    "        print(\"FizzBuzz\")\n",
    "    elif i in l_5:\n",
    "        print(\"Buzz\")\n",
    "    elif i in l_3:\n",
    "        print(\"Fizz\")\n",
    "    else:\n",
    "        print(i)"
   ]
  },
  {
   "cell_type": "markdown",
   "metadata": {},
   "source": [
    "#### 7.　2つの自然数の最大公約数を求める関数を実装せよ。"
   ]
  },
  {
   "cell_type": "code",
   "execution_count": 98,
   "metadata": {},
   "outputs": [],
   "source": [
    "def gcd(a, b):\n",
    "    a = int(input('number1'))\n",
    "    b = int(input('number2'))\n",
    "    x = max(a,b)\n",
    "    y = min(a,b)\n",
    "    if x%y == 0:\n",
    "        print(y)\n",
    "    else:\n",
    "        while x%y!=0:\n",
    "            z=x%y\n",
    "            x=y\n",
    "            y=z\n",
    "        else: print(z)"
   ]
  },
  {
   "cell_type": "markdown",
   "metadata": {},
   "source": [
    "#### 8. `address-tab.txt`を読み込み，先頭から５行のみを出力せよ。また，タブをスペースに変換した結果を `address-space.txt` に書き込め。"
   ]
  },
  {
   "cell_type": "code",
   "execution_count": 1,
   "metadata": {},
   "outputs": [
    {
     "name": "stdout",
     "output_type": "stream",
     "text": [
      "愛知県名古屋市守山区\t桔梗平\n",
      "\n",
      "富山県砺波市\t大窪\n",
      "\n",
      "島根県邑智郡美郷町\t久保\n",
      "\n",
      "愛知県稲沢市\t横地\n",
      "\n",
      "宮城県栗原市\t高清水下折木\n",
      "\n"
     ]
    }
   ],
   "source": [
    "file_data = open(\"address-tab.txt\", \"r\")\n",
    "\n",
    "# 一行ずつ読み込んでは表示する\n",
    "i = 0\n",
    "for line in file_data:\n",
    "    if i<5:\n",
    "        print(line)\n",
    "        i = i+1\n",
    "    else:\n",
    "        break\n",
    "\n",
    "file_data.close()\n",
    "\n",
    "f = open(\"address-tab.txt\")\n",
    "data1 = f.readlines()\n",
    "f.close()\n",
    "\n",
    "data3=[]\n",
    "for tab in data1:\n",
    "    data2 = tab.replace(\"\\t\",\" \")\n",
    "    data3.append(data2)\n",
    "    f = open(\"address-space.txt\",\"w\")\n",
    "    f.writelines(data3)\n",
    "    f.close()"
   ]
  },
  {
   "cell_type": "markdown",
   "metadata": {},
   "source": [
    "#### 9. モンテカルロ法 (10,000点) を用いて円周率の近似値を求めよ。なお `NumPy` を用いること。\n",
    "\n",
    "> 参考：[NumPy 公式サイト](https://docs.scipy.org/doc/numpy/)"
   ]
  },
  {
   "cell_type": "code",
   "execution_count": 73,
   "metadata": {},
   "outputs": [
    {
     "name": "stdout",
     "output_type": "stream",
     "text": [
      "3.1472\n",
      "{'c', 'b'}\n",
      "<class 'set'>\n"
     ]
    }
   ],
   "source": [
    "import numpy as np\n",
    "x = np.random.rand(10000,2)\n",
    "sqrted_x = x**2\n",
    "sqrted_sum_x = np.sum(sqrted_x, axis=1)\n",
    "dist_x = np.sqrt(sqrted_sum_x)\n",
    "y = dist_x[dist_x<1]\n",
    "z = y.size*4/10000\n",
    "print(z)\n",
    "\n",
    "l1 = ['a', 'b', 'c']\n",
    "l2 = ['b', 'c', 'd']\n",
    "l3 = ['c', 'd', 'e']\n",
    "l1_l2_and = set(l1) & set(l2)\n",
    "print(l1_l2_and)\n",
    "# {'b', 'c'}\n",
    "\n",
    "print(type(l1_l2_and))\n",
    "# <class 'set'>"
   ]
  },
  {
   "cell_type": "markdown",
   "metadata": {},
   "source": [
    "#### 10. 以下のセルを実行して得られるデータ **(freq, spec)** を `Matplotlib` を用いて描画せよ。なお，タイトル，ラベル，凡例もつけること。\n",
    "\n",
    "> 参考：[Matplotlib 公式サイト](https://matplotlib.org/)"
   ]
  },
  {
   "cell_type": "code",
   "execution_count": 111,
   "metadata": {},
   "outputs": [
    {
     "data": {
      "image/png": "[encoded data removed]",
      "text/plain": [
       "<Figure size 432x288 with 1 Axes>"
      ]
     },
     "metadata": {
      "needs_background": "light"
     },
     "output_type": "display_data"
    }
   ],
   "source": [
    "import matplotlib.pyplot as plt\n",
    "import numpy as np\n",
    "\n",
    "SAMP_NUM = 256\n",
    "SAMP_INT = 0.01\n",
    "\n",
    "f1, f2 = 10, 20\n",
    "t = np.arange(0, SAMP_NUM * SAMP_INT, SAMP_INT)\n",
    "signal = np.sin(2*np.pi*f1*t) + np.sin(2*np.pi*f2*t) + np.random.randn(SAMP_NUM)\n",
    "\n",
    "\n",
    "freq = np.linspace(0, 1.0/SAMP_INT, SAMP_NUM)\n",
    "spec = np.abs(np.fft.fft(signal))\n",
    "\n",
    "plt.plot(freq, spec, label='signal')\n",
    "\n",
    "plt.xlabel('xlabel')\n",
    "plt.ylabel('ylabel')\n",
    "\n",
    "plt.title(\"Sample Plot\")\n",
    "\n",
    "\n",
    "plt.show()"
   ]
  },
  {
   "cell_type": "code",
   "execution_count": 112,
   "metadata": {},
   "outputs": [
    {
     "data": {
      "image/png": "[encoded data removed]",
      "text/plain": [
       "<Figure size 432x288 with 1 Axes>"
      ]
     },
     "metadata": {
      "needs_background": "light"
     },
     "output_type": "display_data"
    }
   ],
   "source": [
    "x = np.linspace(0, 2, 100)\n",
    "\n",
    "plt.plot(x, x, label='linear')\n",
    "plt.plot(x, x**2, label='quadratic')\n",
    "plt.plot(x, x**3, label='cubic')\n",
    "\n",
    "plt.xlabel('x label')\n",
    "plt.ylabel('y label')\n",
    "\n",
    "plt.title(\"Simple Plot\")\n",
    "\n",
    "plt.legend()\n",
    "\n",
    "plt.show()"
   ]
  },
  {
   "cell_type": "markdown",
   "metadata": {},
   "source": [
    "#### Bonus : 10. と同様のグラフを `Bokeh` を用いて描画せよ。（Note: `Bokeh` はインストールされてない。）\n",
    "> 参考：[Bokeh 公式サイト](https://bokeh.pydata.org/en/latest/)"
   ]
  },
  {
   "cell_type": "code",
   "execution_count": 21,
   "metadata": {},
   "outputs": [],
   "source": []
  },
  {
   "cell_type": "code",
   "execution_count": null,
   "metadata": {},
   "outputs": [],
   "source": []
  }
 ],
 "metadata": {
  "kernelspec": {
   "display_name": "Python 3",
   "language": "python",
   "name": "python3"
  },
  "language_info": {
   "codemirror_mode": {
    "name": "ipython",
    "version": 3
   },
   "file_extension": ".py",
   "mimetype": "text/x-python",
   "name": "python",
   "nbconvert_exporter": "python",
   "pygments_lexer": "ipython3",
   "version": "3.7.2"
  }
 },
 "nbformat": 4,
 "nbformat_minor": 2
}
